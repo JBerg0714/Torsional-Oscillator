{
 "cells": [
  {
   "cell_type": "code",
   "execution_count": 1,
   "metadata": {
    "collapsed": true,
    "slideshow": {
     "slide_type": "skip"
    }
   },
   "outputs": [],
   "source": [
    "## import pandas as pd\n",
    "import numpy as np\n",
    "import matplotlib.pyplot as plt #used for graphing"
   ]
  },
  {
   "cell_type": "code",
   "execution_count": 2,
   "metadata": {
    "collapsed": true,
    "slideshow": {
     "slide_type": "skip"
    }
   },
   "outputs": [],
   "source": [
    "#show graphs inline (do not use for print publication quality graphs)\n",
    "%matplotlib inline"
   ]
  },
  {
   "cell_type": "markdown",
   "metadata": {
    "slideshow": {
     "slide_type": "slide"
    }
   },
   "source": [
    "# Calibrating the TeachSpin Torsional Oscillator\n",
    "## Joshua Berg "
   ]
  },
  {
   "cell_type": "markdown",
   "metadata": {
    "slideshow": {
     "slide_type": "slide"
    }
   },
   "source": [
    "# Goal \n",
    "\n",
    "## To calculate angular position and angular velocity from voltage measurements of a TeachSpin torsional oscillator"
   ]
  },
  {
   "cell_type": "markdown",
   "metadata": {
    "slideshow": {
     "slide_type": "slide"
    }
   },
   "source": [
    "## Torsional Oscillator \n",
    "\n",
    "<center>\n",
    "<img src=\"torsional-osc.jpg\" width=\"600\">\n",
    "</center>"
   ]
  },
  {
   "cell_type": "markdown",
   "metadata": {
    "slideshow": {
     "slide_type": "subslide"
    }
   },
   "source": [
    "# Torsional Oscillation Example\n",
    "\n",
    "Twisted swing:  https://youtu.be/faCc50k49xo?t=58s"
   ]
  },
  {
   "cell_type": "markdown",
   "metadata": {
    "slideshow": {
     "slide_type": "slide"
    }
   },
   "source": [
    "# Apparatus \n",
    "\n",
    "<center>\n",
    "<img src=\"apparatus.jpg\" width=\"600\">\n",
    "</center>"
   ]
  },
  {
   "cell_type": "markdown",
   "metadata": {
    "slideshow": {
     "slide_type": "slide"
    }
   },
   "source": [
    "## Experiment 1: Static measurement of $\\kappa$\n",
    "\n",
    "### Goal: To measure the torsional constant \n",
    "\n",
    "<center>\n",
    "<img src=\"CIMG0003.JPG\" width=\"400\">\n",
    "</center>\n",
    "\n",
    "An external torque was applied to measure $\\Delta\\theta$:\n",
    "\n",
    "$$\\tau_z = -\\kappa\\theta$$\n",
    "\n",
    "Therefore,\n",
    "\n",
    "$$\\kappa = \\frac{\\Delta\\tau}{\\Delta \\theta}$$"
   ]
  },
  {
   "cell_type": "markdown",
   "metadata": {
    "slideshow": {
     "slide_type": "subslide"
    }
   },
   "source": [
    "<center>\n",
    "<img src=\"torque-theta.png\" width=\"600\">\n",
    "</center>\n",
    "\n",
    "$$\\kappa=0.059\\pm 0.002 \\ \\mathrm{N\\cdot m/rad}$$"
   ]
  },
  {
   "cell_type": "markdown",
   "metadata": {
    "slideshow": {
     "slide_type": "slide"
    }
   },
   "source": [
    "# Experiment 2: $\\theta$ as a function of voltage\n",
    "\n",
    "### Goal: To use the angular-position transducer to map voltage to instantaneous angular position\n",
    "\n",
    "Changed $\\theta$ and measured voltage\n"
   ]
  },
  {
   "cell_type": "markdown",
   "metadata": {
    "slideshow": {
     "slide_type": "subslide"
    }
   },
   "source": [
    "<center>\n",
    "<img src=\"CIMG0007.JPG\" width=\"600\">\n",
    "</center>"
   ]
  },
  {
   "cell_type": "markdown",
   "metadata": {
    "slideshow": {
     "slide_type": "subslide"
    }
   },
   "source": [
    "<center>\n",
    "<img src=\"theta-voltage.png\" width=\"600\">\n",
    "</center>\n",
    "\n",
    "$$\\theta = m_{\\theta}V_{\\theta} + b_{\\theta}$$\n",
    "\n",
    "$$\\theta = (0.686\\pm0.006)V_{\\theta} + 0.1677$$\n",
    "\n",
    "where $V_{\\theta}$ is in volts and $\\theta$ is in radians. "
   ]
  },
  {
   "cell_type": "markdown",
   "metadata": {
    "slideshow": {
     "slide_type": "slide"
    }
   },
   "source": [
    "# Experiment 3: The moment of inertia of the rotor and the torsional constant\n",
    "\n",
    "### Goal: To use the period for small oscillations to measure $\\kappa$ and $I_0$.  \n",
    "\n",
    "Changed moment of inertia (I) and measured period (T)"
   ]
  },
  {
   "cell_type": "markdown",
   "metadata": {
    "slideshow": {
     "slide_type": "subslide"
    }
   },
   "source": [
    "The period of a mass on a spring is:\n",
    "$$T = 2\\pi\\sqrt{\\frac{m}{k}}$$\n",
    "        \n",
    "Similarly, the period of a torsional oscillator is:\n",
    "$$T = 2\\pi\\sqrt{\\frac{I}{\\kappa}}$$ \n",
    "\n",
    "We changed $I$ by adding integer numbers of brass bars ($n$), so\n",
    "\n",
    "$$I = I_0 +nI_{bar}$$"
   ]
  },
  {
   "cell_type": "markdown",
   "metadata": {
    "slideshow": {
     "slide_type": "subslide"
    }
   },
   "source": [
    "<center>\n",
    "<img src=\"CIMG0009.JPG\" width=\"600\">\n",
    "</center>"
   ]
  },
  {
   "cell_type": "markdown",
   "metadata": {
    "slideshow": {
     "slide_type": "subslide"
    }
   },
   "source": [
    "A single bar is 1/4 of a thick ring of inner radius $r_1$ and outer radius $r_2$. The moment of inertia for a single bar about the wire: \n",
    "\n",
    "$$I_{bar} = \\frac{1}{4}\\left(\\frac{M}{2}\\right)(r_1^2 + r_2^2)$$\n",
    "            \n",
    "The moment of inertia of the rotor and $n$ bars is\n",
    "\n",
    "$$I = I_0+ nI_{bar}$$         \n",
    "\n",
    "$$T = 2\\pi\\sqrt{\\frac{I}{\\kappa}}$$ \n",
    "\n",
    "$$\\left(\\frac{T}{2\\pi}\\right)^2=\\frac{I_0}{\\kappa} + \\left(\\frac{I_{bar}}{\\kappa}\\right)n$$"
   ]
  },
  {
   "cell_type": "markdown",
   "metadata": {
    "slideshow": {
     "slide_type": "subslide"
    }
   },
   "source": [
    "<center>\n",
    "<img src=\"moment_inertia.png\" width=\"600\">\n",
    "</center>\n",
    "\n",
    "$$\\kappa = 0.064 \\ \\mathrm{N\\cdot m/rad}$$\n",
    "\n",
    "$$I_{rotor} = 0.0021 \\ \\mathrm{kg\\cdot m^2}$$"
   ]
  },
  {
   "cell_type": "markdown",
   "metadata": {
    "slideshow": {
     "slide_type": "slide"
    }
   },
   "source": [
    "# Experiment 4: $\\omega$ as a function of voltage\n",
    "\n",
    "### Goal: To use the Helmholtz coils to map voltage to instantaneous velocity\n",
    "\n",
    "Measured $V(\\theta)$, fitted a curve to $\\theta(t)$, calculated $\\omega(t)=\\dot{\\theta}(t)$, and graphed $\\omega$ as a function of voltage measured across a Helmholtz coil.\n",
    "\n",
    "$$\\omega = m_{\\omega}V_{\\omega}+b_{\\omega}$$ "
   ]
  },
  {
   "cell_type": "markdown",
   "metadata": {
    "slideshow": {
     "slide_type": "subslide"
    }
   },
   "source": [
    "<center>\n",
    "<img src=\"scalar_yay.png\" width=\"600\">\n",
    "</center>"
   ]
  },
  {
   "cell_type": "markdown",
   "metadata": {
    "slideshow": {
     "slide_type": "subslide"
    }
   },
   "source": [
    "<center>\n",
    "<img src=\"omega_voltage.png\" width=\"600\">\n",
    "</center>\n",
    "\n",
    "$$\\omega=(27.412\\pm 0.06)V_{\\omega} + 0.393 $$\n",
    "\n",
    "where $V_{\\omega}$ is in volts and $\\omega$ is in $\\frac{rad}{s}$. "
   ]
  },
  {
   "cell_type": "markdown",
   "metadata": {
    "slideshow": {
     "slide_type": "slide"
    }
   },
   "source": [
    "# Experiment 5: Check energy conservation \n",
    "\n",
    "### Goal: To calculate mechanical energy using angular position $\\theta(t)$ and angular velocity $\\omega(t)$ \n",
    "\n",
    "Elastic Potential Energy: \n",
    "\n",
    "$$U = \\frac{1}{2}\\kappa\\theta^2$$\n",
    "    \n",
    "Kinetic Energy:           \n",
    "$$K = \\frac{1}{2}I\\omega^2$$\n",
    "\n",
    "Mechanical Energy:        \n",
    "$$E = K(t) + U(t)$$"
   ]
  },
  {
   "cell_type": "markdown",
   "metadata": {
    "slideshow": {
     "slide_type": "subslide"
    }
   },
   "source": [
    "<center>\n",
    "<img src=\"1_5_graph.png\" width=\"600\">\n",
    "</center>"
   ]
  },
  {
   "cell_type": "markdown",
   "metadata": {
    "collapsed": true,
    "slideshow": {
     "slide_type": "slide"
    }
   },
   "source": [
    "# Conclusions \n",
    "\n",
    "- Measured $\\theta(V_\\theta)$\n",
    "- Measured $\\omega(V_\\omega)$\n",
    "- Measured $\\kappa$ and $I_{rotor}$\n",
    "- Graph of $E(t)$ is consistent with what we expect\n",
    "\n",
    "\n",
    "\n",
    "\n"
   ]
  },
  {
   "cell_type": "markdown",
   "metadata": {
    "slideshow": {
     "slide_type": "slide"
    }
   },
   "source": [
    "# In the future \n",
    "- Study a damped oscillator and driven oscillator \n",
    "- Study coupled oscillators "
   ]
  }
 ],
 "metadata": {
  "celltoolbar": "Slideshow",
  "kernelspec": {
   "display_name": "Python 3",
   "language": "python",
   "name": "python3"
  },
  "language_info": {
   "codemirror_mode": {
    "name": "ipython",
    "version": 3
   },
   "file_extension": ".py",
   "mimetype": "text/x-python",
   "name": "python",
   "nbconvert_exporter": "python",
   "pygments_lexer": "ipython3",
   "version": "3.6.0"
  }
 },
 "nbformat": 4,
 "nbformat_minor": 2
}
