{
 "cells": [
  {
   "cell_type": "markdown",
   "metadata": {},
   "source": [
    "# Torsional Oscillator Experiments \n",
    "## Josh Berg and Aaron Titus, High Point University"
   ]
  },
  {
   "cell_type": "markdown",
   "metadata": {},
   "source": [
    "### Experiment 1.3:  Periods of oscillation: modeling rotational inertia "
   ]
  },
  {
   "cell_type": "code",
   "execution_count": 13,
   "metadata": {
    "collapsed": true
   },
   "outputs": [],
   "source": [
    "import pandas as pd\n",
    "import numpy as np\n",
    "import matplotlib.pyplot as plt #used for graphing"
   ]
  },
  {
   "cell_type": "code",
   "execution_count": 14,
   "metadata": {
    "collapsed": true
   },
   "outputs": [],
   "source": [
    "#show graphs inline (do not use for print publication quality graphs)\n",
    "%matplotlib inline"
   ]
  },
  {
   "cell_type": "markdown",
   "metadata": {},
   "source": [
    "This experiment examines the simplest dynamic measurements of the Torsional Oscillator. It  focuses on the measurement for the period, $T$. The period is independent of the amplitude of oscillation. Knowing the equation for the period for a mass on a string,\n",
    "\n",
    "$$T = 2\\pi\\sqrt{\\frac{m}{k}}$$\n",
    "        \n",
    "which permits the assumption that the result for this kind of rotational motion is: \n",
    "\n",
    "$$T = 2\\pi\\sqrt{\\frac{I}{\\kappa}}$$ \n",
    "         \n",
    "where $\\kappa$ represents the torsion constant that was calculated in experiment 1.1 and $I$ is the rotational inertia of the rotating system. To test this assumption, the (statically) measured value of $\\kappa$ and precisely modeled contributions to $I$ through the addition of brass bars to the rotor (Image 1 below). The following equation was used: \n",
    "\n",
    "$$I = I_0 +n\\Delta I$$\n",
    "        \n",
    "where $I_0$ is the rotational inertia of the rotor as is, $n$ is the number of brass quadrants and $\\Delta I$ is the added rotational inertial contributed by one brass quadrant. These calculated values of I can be used to predict the T values for equation 2. This is done inserting the equation for $I$ into equation 2, which can be graphed and the slope is the value for $\\kappa$."
   ]
  },
  {
   "cell_type": "markdown",
   "metadata": {},
   "source": [
    "![alt text](CIMG0009.JPG \"Image 1\")"
   ]
  },
  {
   "cell_type": "markdown",
   "metadata": {},
   "source": [
    "The image above shows 2 brass bars resting on the rotor. "
   ]
  },
  {
   "cell_type": "code",
   "execution_count": 15,
   "metadata": {
    "collapsed": true
   },
   "outputs": [],
   "source": [
    "# Read data file and define dataframe object (df for dataframe)\n",
    "df_all = pd.read_table('Experiment1_3.txt')"
   ]
  },
  {
   "cell_type": "code",
   "execution_count": 16,
   "metadata": {},
   "outputs": [
    {
     "data": {
      "text/html": [
       "<div>\n",
       "<table border=\"1\" class=\"dataframe\">\n",
       "  <thead>\n",
       "    <tr style=\"text-align: right;\">\n",
       "      <th></th>\n",
       "      <th>Number of bars (n)</th>\n",
       "      <th>Time (s)</th>\n",
       "      <th>Cycles</th>\n",
       "      <th>Mass of bars (kg)</th>\n",
       "    </tr>\n",
       "  </thead>\n",
       "  <tbody>\n",
       "    <tr>\n",
       "      <th>0</th>\n",
       "      <td>0</td>\n",
       "      <td>16.16</td>\n",
       "      <td>14</td>\n",
       "      <td>0.000</td>\n",
       "    </tr>\n",
       "    <tr>\n",
       "      <th>1</th>\n",
       "      <td>2</td>\n",
       "      <td>16.90</td>\n",
       "      <td>13</td>\n",
       "      <td>0.429</td>\n",
       "    </tr>\n",
       "    <tr>\n",
       "      <th>2</th>\n",
       "      <td>4</td>\n",
       "      <td>17.25</td>\n",
       "      <td>12</td>\n",
       "      <td>0.858</td>\n",
       "    </tr>\n",
       "    <tr>\n",
       "      <th>3</th>\n",
       "      <td>6</td>\n",
       "      <td>17.14</td>\n",
       "      <td>11</td>\n",
       "      <td>1.287</td>\n",
       "    </tr>\n",
       "    <tr>\n",
       "      <th>4</th>\n",
       "      <td>8</td>\n",
       "      <td>15.09</td>\n",
       "      <td>9</td>\n",
       "      <td>1.716</td>\n",
       "    </tr>\n",
       "  </tbody>\n",
       "</table>\n",
       "</div>"
      ],
      "text/plain": [
       "   Number of bars (n)  Time (s)  Cycles  Mass of bars (kg) \n",
       "0                   0     16.16      14               0.000\n",
       "1                   2     16.90      13               0.429\n",
       "2                   4     17.25      12               0.858\n",
       "3                   6     17.14      11               1.287\n",
       "4                   8     15.09       9               1.716"
      ]
     },
     "execution_count": 16,
     "metadata": {},
     "output_type": "execute_result"
    }
   ],
   "source": [
    "#print first five rows of data with the header\n",
    "df_all.head(7)"
   ]
  },
  {
   "cell_type": "code",
   "execution_count": 17,
   "metadata": {},
   "outputs": [
    {
     "name": "stdout",
     "output_type": "stream",
     "text": [
      "[ 0.03374947  0.0428082   0.05234268  0.0615002   0.07120881]\n"
     ]
    }
   ],
   "source": [
    "#Create an arrays and define constants \n",
    "Time = np.array(df_all['Time (s)'].tolist())\n",
    "Cycles = np.array(df_all['Cycles'].tolist())\n",
    "n = np.array(df_all['Number of bars (n)'].tolist())\n",
    "bars_mass = np.array(df_all['Mass of bars (kg) '].tolist())\n",
    "single_bar = 0.2145 #kg \n",
    "r_1 = 0.043688 \n",
    "r_2 = 0.094488 \n",
    "half_r1 = r_1/2\n",
    "half_r2 = r_2/2\n",
    "inside = ((half_r1*half_r1)+(half_r2*half_r2))\n",
    "\n",
    "#Calculations \n",
    "Period = Time/Cycles\n",
    "n_I = (bars_mass/2)*inside\n",
    "Left = (Period/(np.pi*2))*(Period/(np.pi*2))\n",
    "print(Left)"
   ]
  },
  {
   "cell_type": "markdown",
   "metadata": {},
   "source": [
    "The Moment of Inertia for a single bar was calculated through the following equation: \n",
    "\n",
    "$$I_{z,bar} = (M/2)(r_1^2 + r_2^2)$$\n",
    "            \n",
    "The Total Inertia \n",
    "\n",
    "$$I = I_d+ I_b$$ \n",
    "\n",
    "$$= I_d + n(\\Delta I_b)$$\n",
    "        \n",
    "\n",
    "$$(Left) = \\frac{I}{\\kappa} = \\frac{I_d}{\\kappa} + n\\frac{\\Delta I_b}{\\kappa}$$\n",
    "\n",
    "\"b\" stands for brass bar and \"d\" stands for the rotor disk "
   ]
  },
  {
   "cell_type": "code",
   "execution_count": 18,
   "metadata": {},
   "outputs": [
    {
     "data": {
      "text/plain": [
       "(5, 4)"
      ]
     },
     "execution_count": 18,
     "metadata": {},
     "output_type": "execute_result"
    }
   ],
   "source": [
    "#rows, columns of data table\n",
    "df_all.shape"
   ]
  },
  {
   "cell_type": "code",
   "execution_count": 19,
   "metadata": {
    "collapsed": true
   },
   "outputs": [],
   "source": [
    "from scipy.optimize import curve_fit"
   ]
  },
  {
   "cell_type": "code",
   "execution_count": 20,
   "metadata": {
    "collapsed": true
   },
   "outputs": [],
   "source": [
    "#function takes an array of x values and returns an array of y values\n",
    "#  where y=mx+b\n",
    "def func(x, m, b):\n",
    "    return m*x +b #linear function\n",
    "\n",
    "constants, stats = curve_fit(func,n,Left)\n",
    "\n",
    "#constants is a list\n",
    "mbest=constants[0] #slope\n",
    "bbest=constants[1] #intercept\n",
    "\n",
    "ybest=func(n,mbest,bbest) #y values for best fit function"
   ]
  },
  {
   "cell_type": "code",
   "execution_count": 21,
   "metadata": {},
   "outputs": [
    {
     "data": {
      "image/png": "[encoded data removed]",
      "text/plain": [
       "<matplotlib.figure.Figure at 0x11f037208>"
      ]
     },
     "metadata": {},
     "output_type": "display_data"
    },
    {
     "name": "stdout",
     "output_type": "stream",
     "text": [
      "Best fit: m= 0.00468053433317  and b= 0.0335997340925\n"
     ]
    }
   ],
   "source": [
    "#plot graph\n",
    "fig2 = plt.figure()\n",
    "plt.title('Period Squared vs. Number of Bars')\n",
    "plt.xlabel('Number of bars (n)')\n",
    "plt.ylabel('(T/2π)^2')\n",
    "plt.plot(n,Left,'b.',n,ybest,'r-')\n",
    "plt.show()\n",
    "print(\"Best fit: m=\",mbest,\" and b=\",bbest)"
   ]
  },
  {
   "cell_type": "markdown",
   "metadata": {
    "collapsed": true
   },
   "source": [
    "The slope \"m\" is our $\\frac{\\Delta I_{bar}}{\\kappa}$."
   ]
  },
  {
   "cell_type": "code",
   "execution_count": 22,
   "metadata": {},
   "outputs": [
    {
     "name": "stdout",
     "output_type": "stream",
     "text": [
      "0.001162227869088\n"
     ]
    }
   ],
   "source": [
    "dI_bar = (single_bar/2)*((r_1*r_1)+(r_2*r_2)) \n",
    "print(dI_bar)"
   ]
  },
  {
   "cell_type": "code",
   "execution_count": 23,
   "metadata": {},
   "outputs": [
    {
     "name": "stdout",
     "output_type": "stream",
     "text": [
      "0.06385867412571428\n"
     ]
    }
   ],
   "source": [
    "#slope = dI_bar / k therefore k = dI_bar/slope\n",
    "slope = .00455\n",
    "k = (dI_bar/slope)/4 #we divide by four to account for the ratio radii that we squared! \n",
    "print(k)"
   ]
  },
  {
   "cell_type": "markdown",
   "metadata": {},
   "source": [
    "Our $\\kappa$ value shown above is slightly larger than the the value we found in experiment 1_1 (0.05873) this is because of the tiny holes in the bar (shown in image 2) which ultimately effects the ∆I value. If we were to account for the tiny holes, the values would more than likely be the same; however, this was ignored because there is only a 9percent error between the two k values. "
   ]
  },
  {
   "cell_type": "markdown",
   "metadata": {
    "collapsed": true
   },
   "source": [
    "![alt text](CIMG0010.JPG \"Image 2\")"
   ]
  },
  {
   "cell_type": "markdown",
   "metadata": {
    "collapsed": true
   },
   "source": [
    "By using the intercept of the plot $bbest$, we can deduce a value for $I_0$ (the rotational inertia of the unadorned rotor) which is\n",
    "\n",
    "$$bbest=\\frac{I_{d}}{\\kappa}$$\n",
    "\n",
    "Thus, the moment of inertia is\n",
    "\n",
    "$$I_0 = \\kappa b$$"
   ]
  },
  {
   "cell_type": "code",
   "execution_count": 24,
   "metadata": {},
   "outputs": [
    {
     "name": "stdout",
     "output_type": "stream",
     "text": [
      "I_disk =  0.00214563447013  kg m^2\n"
     ]
    }
   ],
   "source": [
    "Idisk=k*bbest\n",
    "print(\"I_disk = \",Idisk,\" kg m^2\")"
   ]
  },
  {
   "cell_type": "code",
   "execution_count": null,
   "metadata": {
    "collapsed": true
   },
   "outputs": [],
   "source": []
  }
 ],
 "metadata": {
  "kernelspec": {
   "display_name": "Python 3",
   "language": "python",
   "name": "python3"
  },
  "language_info": {
   "codemirror_mode": {
    "name": "ipython",
    "version": 3
   },
   "file_extension": ".py",
   "mimetype": "text/x-python",
   "name": "python",
   "nbconvert_exporter": "python",
   "pygments_lexer": "ipython3",
   "version": "3.6.0"
  }
 },
 "nbformat": 4,
 "nbformat_minor": 2
}
