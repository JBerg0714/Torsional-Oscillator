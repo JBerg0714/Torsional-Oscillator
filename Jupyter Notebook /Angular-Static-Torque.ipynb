{
 "cells": [
  {
   "cell_type": "markdown",
   "metadata": {},
   "source": [
    "# Torsional Oscillator Experiments \n",
    "## Josh Berg and Aaron Titus, High Point University"
   ]
  },
  {
   "cell_type": "markdown",
   "metadata": {},
   "source": [
    "### Experiment 1.1:  Angular response to static torque: the torsion constant "
   ]
  },
  {
   "cell_type": "markdown",
   "metadata": {},
   "source": [
    "This experiment explains how to apply static torque to a rotor of the torsional oscillator through the use of weights. The torque that is applied to the oscillator causes an angular accelaration of the rotor. By examinging this angular accelerating it is possible to determine the relationship between torque and angular displacement. "
   ]
  },
  {
   "cell_type": "code",
   "execution_count": 1,
   "metadata": {
    "collapsed": true
   },
   "outputs": [],
   "source": [
    "import pandas as pd\n",
    "import numpy as np\n",
    "import matplotlib.pyplot as plt #used for graphing"
   ]
  },
  {
   "cell_type": "code",
   "execution_count": 2,
   "metadata": {
    "collapsed": true
   },
   "outputs": [],
   "source": [
    "#show graphs inline (do not use for print publication quality graphs)\n",
    "%matplotlib inline"
   ]
  },
  {
   "cell_type": "code",
   "execution_count": 3,
   "metadata": {
    "collapsed": true
   },
   "outputs": [],
   "source": [
    "# Read data file and define dataframe object (df for dataframe)\n",
    "df_all = pd.read_table('Experiment1_a.txt')"
   ]
  },
  {
   "cell_type": "markdown",
   "metadata": {},
   "source": [
    "#### Trial 1 "
   ]
  },
  {
   "cell_type": "markdown",
   "metadata": {},
   "source": [
    "The images below show the experimental set up. "
   ]
  },
  {
   "cell_type": "markdown",
   "metadata": {},
   "source": [
    "![alt text](CIMG0005.JPG \"Image 1\")"
   ]
  },
  {
   "cell_type": "markdown",
   "metadata": {},
   "source": [
    "![alt text](CIMG0003.JPG \"Image 2\")"
   ]
  },
  {
   "cell_type": "markdown",
   "metadata": {},
   "source": [
    "The first image shows the front of the apparatus. There are two friction pulleys, one on either side of the oscillator. Hanging from these friction pulleys are \"hang-down\" units which are responsible for holding varying masses. The second image is a close up view of the strings and their connection to the rotor via a screw on the top portion of the rotor shaft.  "
   ]
  },
  {
   "cell_type": "markdown",
   "metadata": {},
   "source": [
    "The force was calculated by taking the mass hanging from either side of the oscillator and multiplying it by the constant for gravity: \n",
    "\n",
    "$$F_L = m_lg$$ \n",
    "\n",
    "$$F_R = m_rg$$\n",
    "    \n",
    "To calculate the Net Torque on the oscillator the following equation was used: \n",
    "\n",
    "$$\\tau = (m_l + m_r)gr$$ "
   ]
  },
  {
   "cell_type": "code",
   "execution_count": 4,
   "metadata": {},
   "outputs": [
    {
     "data": {
      "text/html": [
       "<div>\n",
       "<table border=\"1\" class=\"dataframe\">\n",
       "  <thead>\n",
       "    <tr style=\"text-align: right;\">\n",
       "      <th></th>\n",
       "      <th>Left Mass (Kg)</th>\n",
       "      <th>Right Mass (Kg)</th>\n",
       "      <th>New Reading (rad)</th>\n",
       "      <th>Angular Displacement Variable</th>\n",
       "      <th>Force Left</th>\n",
       "      <th>Force Right</th>\n",
       "      <th>Net Torque</th>\n",
       "    </tr>\n",
       "  </thead>\n",
       "  <tbody>\n",
       "    <tr>\n",
       "      <th>0</th>\n",
       "      <td>0.05</td>\n",
       "      <td>0.05</td>\n",
       "      <td>2.78</td>\n",
       "      <td>0.08</td>\n",
       "      <td>0.49</td>\n",
       "      <td>0.49</td>\n",
       "      <td>0.012502</td>\n",
       "    </tr>\n",
       "    <tr>\n",
       "      <th>1</th>\n",
       "      <td>0.05</td>\n",
       "      <td>0.10</td>\n",
       "      <td>2.70</td>\n",
       "      <td>0.16</td>\n",
       "      <td>0.49</td>\n",
       "      <td>0.98</td>\n",
       "      <td>0.018753</td>\n",
       "    </tr>\n",
       "    <tr>\n",
       "      <th>2</th>\n",
       "      <td>0.05</td>\n",
       "      <td>0.15</td>\n",
       "      <td>2.56</td>\n",
       "      <td>0.30</td>\n",
       "      <td>0.49</td>\n",
       "      <td>1.47</td>\n",
       "      <td>0.025004</td>\n",
       "    </tr>\n",
       "    <tr>\n",
       "      <th>3</th>\n",
       "      <td>0.05</td>\n",
       "      <td>0.20</td>\n",
       "      <td>2.45</td>\n",
       "      <td>0.41</td>\n",
       "      <td>0.49</td>\n",
       "      <td>1.96</td>\n",
       "      <td>0.031255</td>\n",
       "    </tr>\n",
       "    <tr>\n",
       "      <th>4</th>\n",
       "      <td>0.05</td>\n",
       "      <td>0.25</td>\n",
       "      <td>2.33</td>\n",
       "      <td>0.53</td>\n",
       "      <td>0.49</td>\n",
       "      <td>2.45</td>\n",
       "      <td>0.037506</td>\n",
       "    </tr>\n",
       "    <tr>\n",
       "      <th>5</th>\n",
       "      <td>0.05</td>\n",
       "      <td>0.30</td>\n",
       "      <td>2.25</td>\n",
       "      <td>0.61</td>\n",
       "      <td>0.49</td>\n",
       "      <td>2.94</td>\n",
       "      <td>0.043757</td>\n",
       "    </tr>\n",
       "  </tbody>\n",
       "</table>\n",
       "</div>"
      ],
      "text/plain": [
       "   Left Mass (Kg)  Right Mass (Kg)  New Reading (rad)  \\\n",
       "0            0.05             0.05               2.78   \n",
       "1            0.05             0.10               2.70   \n",
       "2            0.05             0.15               2.56   \n",
       "3            0.05             0.20               2.45   \n",
       "4            0.05             0.25               2.33   \n",
       "5            0.05             0.30               2.25   \n",
       "\n",
       "   Angular Displacement Variable  Force Left  Force Right  Net Torque  \n",
       "0                           0.08        0.49         0.49    0.012502  \n",
       "1                           0.16        0.49         0.98    0.018753  \n",
       "2                           0.30        0.49         1.47    0.025004  \n",
       "3                           0.41        0.49         1.96    0.031255  \n",
       "4                           0.53        0.49         2.45    0.037506  \n",
       "5                           0.61        0.49         2.94    0.043757  "
      ]
     },
     "execution_count": 4,
     "metadata": {},
     "output_type": "execute_result"
    }
   ],
   "source": [
    "#print first five rows of data with the header\n",
    "df_all.head(7)"
   ]
  },
  {
   "cell_type": "markdown",
   "metadata": {},
   "source": [
    "The table above shows the masses for the right side of the apparatus with a constant mass of $0.05 Kg$ for the left side. Additionally, it shows the resulting angular displacement values and individual forces of the left and right side in addition to the subsequent net torque. It is important to note that the raw angular postion (unturned) is 2.86 radians. The net torque was calculated by adding the forces from both sides of the oscillator and multiplying that value by the radius of the rotor shaft. "
   ]
  },
  {
   "cell_type": "markdown",
   "metadata": {},
   "source": [
    "The radius used was:  0.012757 (m)"
   ]
  },
  {
   "cell_type": "code",
   "execution_count": 5,
   "metadata": {},
   "outputs": [
    {
     "data": {
      "text/plain": [
       "(6, 7)"
      ]
     },
     "execution_count": 5,
     "metadata": {},
     "output_type": "execute_result"
    }
   ],
   "source": [
    "#rows, columns of data table\n",
    "df_all.shape"
   ]
  },
  {
   "cell_type": "code",
   "execution_count": 6,
   "metadata": {
    "collapsed": true
   },
   "outputs": [],
   "source": [
    "#Create an array for torque values\n",
    "Displacement = np.array(df_all['Angular Displacement Variable'].tolist())\n",
    "\n",
    "Static_T = np.array(df_all['Net Torque'].tolist())\n"
   ]
  },
  {
   "cell_type": "code",
   "execution_count": 7,
   "metadata": {
    "collapsed": true
   },
   "outputs": [],
   "source": [
    "from scipy.optimize import curve_fit"
   ]
  },
  {
   "cell_type": "code",
   "execution_count": 8,
   "metadata": {
    "collapsed": true
   },
   "outputs": [],
   "source": [
    "#function takes an array of x values and returns an array of y values\n",
    "#  where y=mx+b\n",
    "def func(x, m, b):\n",
    "    return m*x+b #linear function\n",
    "\n",
    "constants, stats = curve_fit(func, Displacement, Static_T)\n",
    "\n",
    "#constants is a list\n",
    "mbest=constants[0] #slope\n",
    "bbest=constants[1] #intercept\n",
    "\n",
    "\n",
    "\n",
    "ybest=func(Displacement,mbest,bbest) #y values for best fit function"
   ]
  },
  {
   "cell_type": "code",
   "execution_count": 9,
   "metadata": {},
   "outputs": [
    {
     "data": {
      "image/png": "[encoded data removed]",
      "text/plain": [
       "<matplotlib.figure.Figure at 0x10d893940>"
      ]
     },
     "metadata": {},
     "output_type": "display_data"
    },
    {
     "name": "stdout",
     "output_type": "stream",
     "text": [
      "Best fit: m= 0.0562365728735  and b= 0.00854011211572\n"
     ]
    }
   ],
   "source": [
    "#plot graph\n",
    "fig2 = plt.figure()\n",
    "plt.title('Torque vs. Angular Displacement')\n",
    "plt.xlabel('Displacement (rad)')\n",
    "plt.ylabel('Net Torque (N*m)')\n",
    "plt.plot(Displacement,Static_T,'b.',Displacement,ybest,'r-')\n",
    "plt.show()\n",
    "print(\"Best fit: m=\",mbest,\" and b=\",bbest)"
   ]
  },
  {
   "cell_type": "markdown",
   "metadata": {},
   "source": [
    "By graphing the Net torque as a function of displacement (rad), the graphs shows the inferred torque exerted by the fiber as a function of angular displacement of the rotor: "
   ]
  },
  {
   "cell_type": "markdown",
   "metadata": {},
   "source": [
    "$$\\tau = -\\kappa\\theta$$\n",
    "\n",
    "therfore: \n",
    "\n",
    "$$\\kappa = \\frac{\\Delta\\tau}{\\Delta \\theta}$$"
   ]
  },
  {
   "cell_type": "markdown",
   "metadata": {},
   "source": [
    "#### Trial 2 "
   ]
  },
  {
   "cell_type": "markdown",
   "metadata": {},
   "source": [
    "The difference between Trials 1 and 2 is that the constant mass was kept on the right side of the oscillator rather than the left side. "
   ]
  },
  {
   "cell_type": "code",
   "execution_count": 10,
   "metadata": {
    "collapsed": true
   },
   "outputs": [],
   "source": [
    "# Read data file and define dataframe object (df for dataframe)\n",
    "df_all = pd.read_table('Experiment1_b.txt')"
   ]
  },
  {
   "cell_type": "code",
   "execution_count": 11,
   "metadata": {},
   "outputs": [
    {
     "data": {
      "text/html": [
       "<div>\n",
       "<table border=\"1\" class=\"dataframe\">\n",
       "  <thead>\n",
       "    <tr style=\"text-align: right;\">\n",
       "      <th></th>\n",
       "      <th>Left Mass (Kg)</th>\n",
       "      <th>Right Mass (Kg)</th>\n",
       "      <th>New Reading (rad)</th>\n",
       "      <th>Angular Displacement Variable</th>\n",
       "      <th>Force Left</th>\n",
       "      <th>Force Right</th>\n",
       "      <th>Net Torque</th>\n",
       "    </tr>\n",
       "  </thead>\n",
       "  <tbody>\n",
       "    <tr>\n",
       "      <th>0</th>\n",
       "      <td>0.10</td>\n",
       "      <td>0.05</td>\n",
       "      <td>2.69</td>\n",
       "      <td>0.17</td>\n",
       "      <td>0.98</td>\n",
       "      <td>0.49</td>\n",
       "      <td>0.018753</td>\n",
       "    </tr>\n",
       "    <tr>\n",
       "      <th>1</th>\n",
       "      <td>0.15</td>\n",
       "      <td>0.05</td>\n",
       "      <td>2.59</td>\n",
       "      <td>0.27</td>\n",
       "      <td>1.47</td>\n",
       "      <td>0.49</td>\n",
       "      <td>0.025004</td>\n",
       "    </tr>\n",
       "    <tr>\n",
       "      <th>2</th>\n",
       "      <td>0.20</td>\n",
       "      <td>0.05</td>\n",
       "      <td>2.48</td>\n",
       "      <td>0.38</td>\n",
       "      <td>1.96</td>\n",
       "      <td>0.49</td>\n",
       "      <td>0.031255</td>\n",
       "    </tr>\n",
       "    <tr>\n",
       "      <th>3</th>\n",
       "      <td>0.25</td>\n",
       "      <td>0.05</td>\n",
       "      <td>2.39</td>\n",
       "      <td>0.47</td>\n",
       "      <td>2.45</td>\n",
       "      <td>0.49</td>\n",
       "      <td>0.037506</td>\n",
       "    </tr>\n",
       "    <tr>\n",
       "      <th>4</th>\n",
       "      <td>0.30</td>\n",
       "      <td>0.05</td>\n",
       "      <td>2.28</td>\n",
       "      <td>0.58</td>\n",
       "      <td>2.94</td>\n",
       "      <td>0.49</td>\n",
       "      <td>0.043757</td>\n",
       "    </tr>\n",
       "  </tbody>\n",
       "</table>\n",
       "</div>"
      ],
      "text/plain": [
       "   Left Mass (Kg)  Right Mass (Kg)  New Reading (rad)  \\\n",
       "0            0.10             0.05               2.69   \n",
       "1            0.15             0.05               2.59   \n",
       "2            0.20             0.05               2.48   \n",
       "3            0.25             0.05               2.39   \n",
       "4            0.30             0.05               2.28   \n",
       "\n",
       "   Angular Displacement Variable  Force Left  Force Right  Net Torque  \n",
       "0                           0.17        0.98         0.49    0.018753  \n",
       "1                           0.27        1.47         0.49    0.025004  \n",
       "2                           0.38        1.96         0.49    0.031255  \n",
       "3                           0.47        2.45         0.49    0.037506  \n",
       "4                           0.58        2.94         0.49    0.043757  "
      ]
     },
     "execution_count": 11,
     "metadata": {},
     "output_type": "execute_result"
    }
   ],
   "source": [
    "#print first five rows of data with the header\n",
    "df_all.head(7)"
   ]
  },
  {
   "cell_type": "code",
   "execution_count": 12,
   "metadata": {},
   "outputs": [
    {
     "data": {
      "text/plain": [
       "(5, 7)"
      ]
     },
     "execution_count": 12,
     "metadata": {},
     "output_type": "execute_result"
    }
   ],
   "source": [
    "#rows, columns of data table\n",
    "df_all.shape"
   ]
  },
  {
   "cell_type": "code",
   "execution_count": 13,
   "metadata": {
    "collapsed": true
   },
   "outputs": [],
   "source": [
    "#Create an array for torque values\n",
    "Displacement2 = np.array(df_all['Angular Displacement Variable'].tolist())\n",
    "\n",
    "Static_T2 = np.array(df_all['Net Torque'].tolist())"
   ]
  },
  {
   "cell_type": "code",
   "execution_count": 14,
   "metadata": {
    "collapsed": true
   },
   "outputs": [],
   "source": [
    "#function takes an array of x values and returns an array of y values\n",
    "#  where y=mx+b\n",
    "def func(x, m, b):\n",
    "    return m*x+b #linear function\n",
    "\n",
    "constants, stats = curve_fit(func, Displacement2, Static_T2)\n",
    "\n",
    "#constants is a list\n",
    "mbest=constants[0] #slope\n",
    "bbest=constants[1] #intercept\n",
    "\n",
    "ybest=func(Displacement2,mbest,bbest) #y values for best fit function"
   ]
  },
  {
   "cell_type": "code",
   "execution_count": 15,
   "metadata": {},
   "outputs": [
    {
     "data": {
      "image/png": "[encoded data removed]",
      "text/plain": [
       "<matplotlib.figure.Figure at 0x1110b25c0>"
      ]
     },
     "metadata": {},
     "output_type": "display_data"
    },
    {
     "name": "stdout",
     "output_type": "stream",
     "text": [
      "Best fit: m= 0.0612365405497  and b= 0.00835218383435\n"
     ]
    }
   ],
   "source": [
    "#plot graph\n",
    "fig2 = plt.figure()\n",
    "plt.title('Torque vs. Angular Displacement')\n",
    "plt.xlabel('Displacement (rad)')\n",
    "plt.ylabel('Net Torque (N*m)')\n",
    "plt.plot(Displacement2,Static_T2,'b.',Displacement2,ybest,'r-')\n",
    "plt.show()\n",
    "print(\"Best fit: m=\",mbest,\" and b=\",bbest)"
   ]
  },
  {
   "cell_type": "markdown",
   "metadata": {},
   "source": [
    "The torsion constant for trial 2 differs from the torsion constant for trial 1 by 10%. This could very well be in part to hysteresis, where there is a small-displacement regime in the angular displacement. "
   ]
  },
  {
   "cell_type": "code",
   "execution_count": 16,
   "metadata": {},
   "outputs": [
    {
     "name": "stdout",
     "output_type": "stream",
     "text": [
      "Average kappa value: 0.058736556711599996\n"
     ]
    }
   ],
   "source": [
    "k_1 = 0.0562365728735 #((N*m)/rad)\n",
    "k_2 = 0.0612365405497 #((N*m)/rad)\n",
    "k = ( k_1 + k_2)/2\n",
    "print('Average kappa value:', k)"
   ]
  },
  {
   "cell_type": "code",
   "execution_count": 19,
   "metadata": {},
   "outputs": [
    {
     "data": {
      "text/plain": [
       "0.0024999838380999999"
      ]
     },
     "execution_count": 19,
     "metadata": {},
     "output_type": "execute_result"
    }
   ],
   "source": [
    "avgdev=(np.abs(k-k_1)+np.abs(k-k_2))/2\n",
    "avgdev"
   ]
  },
  {
   "cell_type": "code",
   "execution_count": null,
   "metadata": {
    "collapsed": true
   },
   "outputs": [],
   "source": []
  }
 ],
 "metadata": {
  "kernelspec": {
   "display_name": "Python 3",
   "language": "python",
   "name": "python3"
  },
  "language_info": {
   "codemirror_mode": {
    "name": "ipython",
    "version": 3
   },
   "file_extension": ".py",
   "mimetype": "text/x-python",
   "name": "python",
   "nbconvert_exporter": "python",
   "pygments_lexer": "ipython3",
   "version": "3.6.1"
  }
 },
 "nbformat": 4,
 "nbformat_minor": 2
}
