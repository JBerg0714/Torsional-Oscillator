{
 "cells": [
  {
   "cell_type": "markdown",
   "metadata": {},
   "source": [
    "# Torsional Oscillator Experiments \n",
    "## Josh Berg and Aaron Titus, High Point University"
   ]
  },
  {
   "cell_type": "markdown",
   "metadata": {},
   "source": [
    "### Experiment 1.2:  The angular-position transducer "
   ]
  },
  {
   "cell_type": "code",
   "execution_count": 1,
   "metadata": {
    "collapsed": true
   },
   "outputs": [],
   "source": [
    "import pandas as pd\n",
    "import numpy as np\n",
    "import matplotlib.pyplot as plt #used for graphing\n",
    "from scipy.optimize import curve_fit"
   ]
  },
  {
   "cell_type": "markdown",
   "metadata": {},
   "source": [
    "This experiment is the same as experiment 1.1 with the addition of a voltmeter to account for voltage. This helps map the instantaneous angular position of the rotor to a voltage output. Below are images of the experimental set up. Specifically, image 1 shows the digital multimeter and how it was connected to the torsional oscillator. Image 2 shows the zero-offset adjust, which is a ten-turn dial that ensures the untorqued equilibrium is zero. "
   ]
  },
  {
   "cell_type": "markdown",
   "metadata": {},
   "source": [
    "![alt text](CIMG0007.JPG \"Image 1\")"
   ]
  },
  {
   "cell_type": "markdown",
   "metadata": {},
   "source": [
    "![alt text](CIMG0008.JPG \"Image 2\")"
   ]
  },
  {
   "cell_type": "markdown",
   "metadata": {},
   "source": [
    "### Trial 1 "
   ]
  },
  {
   "cell_type": "code",
   "execution_count": 2,
   "metadata": {
    "collapsed": true
   },
   "outputs": [],
   "source": [
    "# Read data file and define dataframe object (df for dataframe)\n",
    "df_all = pd.read_table('Experiment1_2a.txt')"
   ]
  },
  {
   "cell_type": "code",
   "execution_count": 3,
   "metadata": {},
   "outputs": [
    {
     "data": {
      "text/html": [
       "<div>\n",
       "<table border=\"1\" class=\"dataframe\">\n",
       "  <thead>\n",
       "    <tr style=\"text-align: right;\">\n",
       "      <th></th>\n",
       "      <th>Voltage (V)</th>\n",
       "      <th>Angular Displacement Variable</th>\n",
       "    </tr>\n",
       "  </thead>\n",
       "  <tbody>\n",
       "    <tr>\n",
       "      <th>0</th>\n",
       "      <td>-0.356</td>\n",
       "      <td>-0.08</td>\n",
       "    </tr>\n",
       "    <tr>\n",
       "      <th>1</th>\n",
       "      <td>-0.506</td>\n",
       "      <td>-0.16</td>\n",
       "    </tr>\n",
       "    <tr>\n",
       "      <th>2</th>\n",
       "      <td>-0.686</td>\n",
       "      <td>-0.30</td>\n",
       "    </tr>\n",
       "    <tr>\n",
       "      <th>3</th>\n",
       "      <td>-0.843</td>\n",
       "      <td>-0.41</td>\n",
       "    </tr>\n",
       "    <tr>\n",
       "      <th>4</th>\n",
       "      <td>-1.045</td>\n",
       "      <td>-0.53</td>\n",
       "    </tr>\n",
       "    <tr>\n",
       "      <th>5</th>\n",
       "      <td>-1.137</td>\n",
       "      <td>-0.61</td>\n",
       "    </tr>\n",
       "  </tbody>\n",
       "</table>\n",
       "</div>"
      ],
      "text/plain": [
       "   Voltage (V)  Angular Displacement Variable\n",
       "0       -0.356                          -0.08\n",
       "1       -0.506                          -0.16\n",
       "2       -0.686                          -0.30\n",
       "3       -0.843                          -0.41\n",
       "4       -1.045                          -0.53\n",
       "5       -1.137                          -0.61"
      ]
     },
     "execution_count": 3,
     "metadata": {},
     "output_type": "execute_result"
    }
   ],
   "source": [
    "#print first five rows of data with the header\n",
    "df_all.head(7)"
   ]
  },
  {
   "cell_type": "markdown",
   "metadata": {},
   "source": [
    "Talk about the table above. "
   ]
  },
  {
   "cell_type": "code",
   "execution_count": 4,
   "metadata": {},
   "outputs": [
    {
     "data": {
      "text/plain": [
       "(6, 2)"
      ]
     },
     "execution_count": 4,
     "metadata": {},
     "output_type": "execute_result"
    }
   ],
   "source": [
    "#rows, columns of data table\n",
    "df_all.shape"
   ]
  },
  {
   "cell_type": "code",
   "execution_count": 5,
   "metadata": {
    "collapsed": true
   },
   "outputs": [],
   "source": [
    "#Create an array for torque values\n",
    "Displacement3 = np.array(df_all['Angular Displacement Variable'].tolist())\n",
    "\n",
    "Voltage = np.array(df_all['Voltage (V)'].tolist())"
   ]
  },
  {
   "cell_type": "code",
   "execution_count": 6,
   "metadata": {
    "collapsed": true
   },
   "outputs": [],
   "source": [
    "#function takes an array of x values and returns an array of y values\n",
    "#  where y=mx+b\n",
    "def func(x, m, b):\n",
    "    return m*x+b #linear function\n",
    "\n",
    "constants, stats = curve_fit(func, Voltage, Displacement3)\n",
    "\n",
    "#constants is a list\n",
    "mbest=constants[0] #slope\n",
    "bbest=constants[1] #intercept\n",
    "\n",
    "\n",
    "\n",
    "ybest=func(Voltage,mbest,bbest) #y values for best fit function"
   ]
  },
  {
   "cell_type": "code",
   "execution_count": 7,
   "metadata": {},
   "outputs": [
    {
     "data": {
      "image/png": "[encoded data removed]",
      "text/plain": [
       "<matplotlib.figure.Figure at 0x11ac35080>"
      ]
     },
     "metadata": {},
     "output_type": "display_data"
    },
    {
     "name": "stdout",
     "output_type": "stream",
     "text": [
      "Best fit: m= 0.680505240762  and b= 0.170325077678\n"
     ]
    }
   ],
   "source": [
    "#plot graph\n",
    "fig2 = plt.figure()\n",
    "plt.title('Voltage vs. Angular Displacement')\n",
    "plt.xlabel('Voltage (V)')\n",
    "plt.ylabel('Displacement (rad)')\n",
    "plt.plot(Voltage, Displacement3,'b.',Voltage,ybest,'r-')\n",
    "plt.show()\n",
    "print(\"Best fit: m=\",mbest,\" and b=\",bbest)"
   ]
  },
  {
   "cell_type": "markdown",
   "metadata": {},
   "source": [
    "### Trial 2 "
   ]
  },
  {
   "cell_type": "code",
   "execution_count": 8,
   "metadata": {
    "collapsed": true
   },
   "outputs": [],
   "source": [
    "# Read data file and define dataframe object (df for dataframe)\n",
    "df_all = pd.read_table('Experiment1_2b.txt')"
   ]
  },
  {
   "cell_type": "code",
   "execution_count": 9,
   "metadata": {},
   "outputs": [
    {
     "data": {
      "text/html": [
       "<div>\n",
       "<table border=\"1\" class=\"dataframe\">\n",
       "  <thead>\n",
       "    <tr style=\"text-align: right;\">\n",
       "      <th></th>\n",
       "      <th>Voltage (V)</th>\n",
       "      <th>Angular Displacement Variable</th>\n",
       "    </tr>\n",
       "  </thead>\n",
       "  <tbody>\n",
       "    <tr>\n",
       "      <th>0</th>\n",
       "      <td>-0.480</td>\n",
       "      <td>-0.17</td>\n",
       "    </tr>\n",
       "    <tr>\n",
       "      <th>1</th>\n",
       "      <td>-0.638</td>\n",
       "      <td>-0.27</td>\n",
       "    </tr>\n",
       "    <tr>\n",
       "      <th>2</th>\n",
       "      <td>-0.797</td>\n",
       "      <td>-0.38</td>\n",
       "    </tr>\n",
       "    <tr>\n",
       "      <th>3</th>\n",
       "      <td>-0.924</td>\n",
       "      <td>-0.47</td>\n",
       "    </tr>\n",
       "    <tr>\n",
       "      <th>4</th>\n",
       "      <td>-1.073</td>\n",
       "      <td>-0.58</td>\n",
       "    </tr>\n",
       "  </tbody>\n",
       "</table>\n",
       "</div>"
      ],
      "text/plain": [
       "   Voltage (V)  Angular Displacement Variable\n",
       "0       -0.480                          -0.17\n",
       "1       -0.638                          -0.27\n",
       "2       -0.797                          -0.38\n",
       "3       -0.924                          -0.47\n",
       "4       -1.073                          -0.58"
      ]
     },
     "execution_count": 9,
     "metadata": {},
     "output_type": "execute_result"
    }
   ],
   "source": [
    "#print first five rows of data with the header\n",
    "df_all.head(7)"
   ]
  },
  {
   "cell_type": "code",
   "execution_count": 10,
   "metadata": {},
   "outputs": [
    {
     "data": {
      "text/plain": [
       "(5, 2)"
      ]
     },
     "execution_count": 10,
     "metadata": {},
     "output_type": "execute_result"
    }
   ],
   "source": [
    "#rows, columns of data table\n",
    "df_all.shape"
   ]
  },
  {
   "cell_type": "code",
   "execution_count": 11,
   "metadata": {
    "collapsed": true
   },
   "outputs": [],
   "source": [
    "#Create an array for torque values\n",
    "Displacement4 = np.array(df_all['Angular Displacement Variable'].tolist())\n",
    "\n",
    "Voltage2 = np.array(df_all['Voltage (V)'].tolist())"
   ]
  },
  {
   "cell_type": "code",
   "execution_count": 12,
   "metadata": {
    "collapsed": true
   },
   "outputs": [],
   "source": [
    "#function takes an array of x values and returns an array of y values\n",
    "#  where y=mx+b\n",
    "def func(x, m, b):\n",
    "    return m*x+b #linear function\n",
    "\n",
    "constants, stats = curve_fit(func, Voltage2,  Displacement4)\n",
    "\n",
    "#constants is a list\n",
    "mbest=constants[0] #slope\n",
    "bbest=constants[1] #intercept\n",
    "\n",
    "\n",
    "\n",
    "ybest=func(Voltage2,mbest,bbest) #y values for best fit function"
   ]
  },
  {
   "cell_type": "code",
   "execution_count": 13,
   "metadata": {},
   "outputs": [
    {
     "data": {
      "image/png": "[encoded data removed]",
      "text/plain": [
       "<matplotlib.figure.Figure at 0x11e385588>"
      ]
     },
     "metadata": {},
     "output_type": "display_data"
    },
    {
     "name": "stdout",
     "output_type": "stream",
     "text": [
      "Best fit: m= 0.692376175402  and b= 0.167715119623\n"
     ]
    }
   ],
   "source": [
    "#plot graph\n",
    "fig2 = plt.figure()\n",
    "plt.title('Angular Displacement vs. Voltage')\n",
    "plt.xlabel('Voltage (V)')\n",
    "plt.ylabel('Displacement (rad)')\n",
    "plt.plot(Voltage2,Displacement4,'b.',Voltage2,ybest,'r-')\n",
    "plt.show()\n",
    "print(\"Best fit: m=\",mbest,\" and b=\",bbest)"
   ]
  },
  {
   "cell_type": "code",
   "execution_count": 14,
   "metadata": {},
   "outputs": [
    {
     "name": "stdout",
     "output_type": "stream",
     "text": [
      "0.6864407080820001\n",
      "0.00593546732\n"
     ]
    }
   ],
   "source": [
    "average_slope = (0.692376175402+0.680505240762)/2\n",
    "print(average_slope)\n",
    "avgdev = (np.abs(0.692376175402-average_slope)+np.abs(0.680505240762-average_slope))/2\n",
    "print(avgdev)"
   ]
  },
  {
   "cell_type": "markdown",
   "metadata": {
    "collapsed": true
   },
   "source": [
    "The Curve above is known as a \"calibration curve\". The equation is: \n",
    "\n",
    "$$\\theta = mV_{\\theta} + b$$\n",
    "\n",
    "$$\\theta = 0.6864407V_{\\theta} + 0.1677$$\n",
    "\n",
    "where V is in volts and theta is in radians. "
   ]
  },
  {
   "cell_type": "markdown",
   "metadata": {},
   "source": []
  },
  {
   "cell_type": "code",
   "execution_count": null,
   "metadata": {
    "collapsed": true
   },
   "outputs": [],
   "source": []
  }
 ],
 "metadata": {
  "kernelspec": {
   "display_name": "Python 3",
   "language": "python",
   "name": "python3"
  },
  "language_info": {
   "codemirror_mode": {
    "name": "ipython",
    "version": 3
   },
   "file_extension": ".py",
   "mimetype": "text/x-python",
   "name": "python",
   "nbconvert_exporter": "python",
   "pygments_lexer": "ipython3",
   "version": "3.6.0"
  }
 },
 "nbformat": 4,
 "nbformat_minor": 2
}
